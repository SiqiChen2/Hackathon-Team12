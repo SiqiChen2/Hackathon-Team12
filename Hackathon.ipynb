{
  "nbformat": 4,
  "nbformat_minor": 0,
  "metadata": {
    "colab": {
      "name": "Hackathon.ipynb",
      "provenance": []
    },
    "kernelspec": {
      "name": "python3",
      "display_name": "Python 3"
    },
    "language_info": {
      "name": "python"
    }
  },
  "cells": [
    {
      "cell_type": "code",
      "source": [
        "# All the current hubs and how many people it takes care of\n",
        "hubs = {\"Upper Fraser Valley\": 0, \"South Vancouver\": 0, \"Burnaby\": 0, \"Collingwood\": 0, \"Abbotsford\": 0, \"Downtown Eastside\": 0,\n",
        "        \"Surrey\": 0, \"Central Cariboo\": 0, \"North Pemberton\": 0, \"North Okanagan\": 0, \"Kimberley-Cranbrook\": 0,\n",
        "        \"Lower Columbia\": 0, \"Strathcona\": 0, \"Tri-Cities\": 0, \"Delta\": 0, \"West End Vancouver\": 0}\n",
        "hubsCoordinate = {\"Upper Fraser Valley\": (49.17114, -121.95336), \"South Vancouver\": (49.22552, -123.0655), \"Burnaby\": (49.22538, -123.00434), \n",
        "                    \"Collingwood\": (49.23665, -123.03299), \"Abbotsford\": (49.0461, -122.2901), \"Downtown Eastside\": (49.28092, -123.0901),\n",
        "                    \"Surrey\": (49.01806, -122.78841), \"Central Cariboo\": (52.13022, -122.13799), \"North Pemberton\": (50.32157, -122.81039),\n",
        "                    \"North Okanagan\": (50.26701, -119.27201), \"Kimberley-Cranbrook\": (49.51449, -115.76031),\n",
        "                    \"Lower Columbia\": (49.09714, -117.70748), \"Strathcona\": (50.0146, -125.24437),\n",
        "                    \"Tri-Cities\": (49.2786, -122.79264), \"Delta\": (49.00834, -123.04659), \"West End Vancouver\": (49.2857, -123.13365)}"
      ],
      "metadata": {
        "id": "PJbged3P0ZcX"
      },
      "execution_count": 321,
      "outputs": []
    },
    {
      "cell_type": "code",
      "source": [
        "import io\n",
        "import pandas as pd\n",
        "import numpy as np"
      ],
      "metadata": {
        "id": "pATpsgnC1Psn"
      },
      "execution_count": 322,
      "outputs": []
    },
    {
      "cell_type": "code",
      "source": [
        "calls = pd.read_csv('/content/drive/MyDrive/BC211_CallsForFood2021(original & adjusted).csv')"
      ],
      "metadata": {
        "id": "lPZMe5Rf3JAP"
      },
      "execution_count": 323,
      "outputs": []
    },
    {
      "cell_type": "code",
      "source": [
        "!pip install haversine\n",
        "import haversine as hs"
      ],
      "metadata": {
        "colab": {
          "base_uri": "https://localhost:8080/"
        },
        "id": "bkm1ojWNgQSW",
        "outputId": "fd3a8aa8-6860-4815-eb9e-268286dd17ff"
      },
      "execution_count": 324,
      "outputs": [
        {
          "output_type": "stream",
          "name": "stdout",
          "text": [
            "Requirement already satisfied: haversine in /usr/local/lib/python3.7/dist-packages (2.5.1)\n"
          ]
        }
      ]
    },
    {
      "cell_type": "code",
      "source": [
        "def closestHub(cityCoordinate):\n",
        "  # a function that returns the closest steward from a city and its distance\n",
        "  loc1 = (float(cityCoordinate.split(',')[0]), float(cityCoordinate.split(',')[1]))\n",
        "  distance = 0\n",
        "  distanceList = []\n",
        "  for hubName, loc2 in hubsCoordinate.items():\n",
        "    # Use Haversine Distance\n",
        "    distance = hs.haversine(loc1, loc2)\n",
        "    distanceList.append((hubName, distance))\n",
        "  distanceList.sort(key=lambda x:x[1])\n",
        "  return distanceList[0]"
      ],
      "metadata": {
        "id": "F2UWV3Rt-wWb"
      },
      "execution_count": 325,
      "outputs": []
    },
    {
      "cell_type": "code",
      "source": [
        "def BOI(total, distance):\n",
        "  # this function calculates the bail-out index of a certain area based on total calls and distance\n",
        "  return total / distance"
      ],
      "metadata": {
        "id": "JEjrDWap_L7H"
      },
      "execution_count": 326,
      "outputs": []
    },
    {
      "cell_type": "code",
      "source": [
        "from pandas.core.arrays.numeric import T\n",
        "bail_out_index = 0.15 # flexible\n",
        "for i, r in calls.iterrows():\n",
        "  # if the city is not in any hub and its BOI is bigger than n, assign that city to its closest hub\n",
        "  if str(r['Food Hub']).isalnum() and BOI(r['Total'], closestHub(r['coordinate'])[1]) > bail_out_index:\n",
        "    hubs[closestHub(r['coordinate'])[0]] += r['Total']\n",
        "  # if the city is in an existing hub\n",
        "  elif not str(r['Food Hub']).isalnum() and str(r['City']) != 'Vancouver':\n",
        "    hubs[(r['hub'])] += r['Total']\n",
        "  # Vancouver has 4 hubs, 5 stewards, divide the calls evenly\n",
        "  elif str(r['City']) == 'Vancouver':\n",
        "    hubs['South Vancouver'] += 156\n",
        "    hubs[\"Collingwood\"] += 156\n",
        "    hubs['Downtown Eastside'] += 313\n",
        "    hubs['West End Vancouver'] += 156"
      ],
      "metadata": {
        "id": "Gxi-NLNn4xKM"
      },
      "execution_count": 327,
      "outputs": []
    },
    {
      "cell_type": "code",
      "source": [
        "cover_rate = sum(hubs.values())/2644"
      ],
      "metadata": {
        "colab": {
          "base_uri": "https://localhost:8080/"
        },
        "id": "ARm6h5Ld-TKM",
        "outputId": "31b82ef4-be52-4b72-bb3c-d435510542e5"
      },
      "execution_count": 328,
      "outputs": [
        {
          "output_type": "execute_result",
          "data": {
            "text/plain": [
              "0.9084720121028744"
            ]
          },
          "metadata": {},
          "execution_count": 328
        }
      ]
    },
    {
      "cell_type": "code",
      "source": [
        "sorted_hubs = sorted(hubs.items(), key=lambda kv: kv[1])"
      ],
      "metadata": {
        "id": "VPZX32Vh2dR9"
      },
      "execution_count": 329,
      "outputs": []
    }
  ]
}