{
 "cells": [
  {
   "cell_type": "code",
   "execution_count": 3,
   "metadata": {},
   "outputs": [
    {
     "name": "stdout",
     "output_type": "stream",
     "text": [
      "0    3245 THIRD AVENUE, PORT ALBERNI, BC, V9Y4C9, CA\n",
      "1                   PO BOX 698, HOPE, BC, V0X1L0, CA\n",
      "2           901 KINGS ROAD, VICTORIA, BC, V8T1W5, CA\n",
      "3         1095 SHUSWAP AVE, SICAMOUS, BC, V0E2V1, CA\n",
      "4    227 6TH STREET, NEW WESTMINSTER, BC, V3L3A5, CA\n",
      "Name: full_address, dtype: object\n",
      "0             201 E 23 Street, North Vancouver, V7L3E4\n",
      "1                   4567 Heather St, Vancouver, V5Z0C9\n",
      "2           200 - 678 E Hastings St, Vancouver, V6A1R1\n",
      "3                            PO Box 25, Sardis, V2R1A5\n",
      "4    501 - 104  1015 Columbia St, New Westminster, ...\n",
      "Name: full_address, dtype: object\n",
      "633\n",
      "list index out of range\n",
      "list index out of range\n",
      "list index out of range\n",
      "list index out of range\n",
      "list index out of range\n",
      "list index out of range\n"
     ]
    }
   ],
   "source": [
    "import numpy as np\n",
    "import pandas as pd\n",
    "import googlemaps\n",
    "import json\n",
    "\n",
    "\n",
    "charities_raw = pd.read_csv('Charities_BC_PoveryCommunity.csv')\n",
    "partners_raw = pd.read_csv('UWBC_PartnerOrganizations.csv')\n",
    "\n",
    "charities_filtered = charities_raw.filter(items=['Legal name','Mailing address','City','Province','Postal code','Country'])\n",
    "partners_filtered = partners_raw.filter(items=['NAME1','Addressline1','CITY','postalcode'])\n",
    "\n",
    "# Strip whitespace\n",
    "for column in partners_filtered.columns:\n",
    "    partners_filtered[column] = partners_filtered[column].str.strip()\n",
    "\n",
    "charities_filtered['full_address'] = charities_filtered[['Mailing address','City','Province','Postal code','Country']].agg(', '.join,axis=1)\n",
    "partners_filtered['full_address'] = partners_filtered[['Addressline1','CITY','postalcode']].agg(', '.join,axis=1)\n",
    "\n",
    "charities_latlong = charities_filtered.loc[:,['Legal name','full_address']]\n",
    "partners_latlong = partners_filtered.loc[:,['NAME1','full_address']]\n",
    "\n",
    "charities_filtered.to_csv('charity_addresses.csv',index=False)\n",
    "\n",
    "charities_latlong[['Lat','Long']] = 0\n",
    "partners_latlong[['Lat','Long']] = 0\n",
    "\n",
    "charities_test = charities_latlong.head(5)\n",
    "#print(charities_test)\n",
    "print(partners_latlong.shape[0])\n",
    "\n",
    "gmaps = googlemaps.Client(key='<YOUR-API-KEY>')\n",
    "\n",
    "for i in range(charities_latlong.shape[0]):\n",
    "    try:\n",
    "        loc_json = gmaps.geocode(charities_latlong.at[i,'full_address'])\n",
    "        lat = loc_json[0]['geometry']['location']['lat']\n",
    "        long = loc_json[0]['geometry']['location']['lng']\n",
    "        charities_latlong.at[i,'Lat'], charities_latlong.at[i,'Long'] = lat, long\n",
    "    except IndexError as e:\n",
    "        print(e)\n",
    "\n",
    "charities_latlong.to_csv('charities_latlong.csv', index=False)\n",
    "\n",
    "for j in range(partners_latlong.shape[0]):\n",
    "    try:\n",
    "        loc_json = gmaps.geocode(partners_latlong.at[j,'full_address'])\n",
    "        lat = loc_json[0]['geometry']['location']['lat']\n",
    "        long = loc_json[0]['geometry']['location']['lng']\n",
    "        partners_latlong.at[j,'Lat'], partners_latlong.at[j,'Long'] = lat, long\n",
    "    except IndexError as e:\n",
    "        print(e)\n",
    "\n",
    "partners_latlong.to_csv('partners_latlong.csv',index=False)\n",
    "\n"
   ]
  }
 ],
 "metadata": {
  "interpreter": {
   "hash": "925a347d9d8184a3e135c1e140e8eac50993cc2b35cf321a19deef380283a115"
  },
  "kernelspec": {
   "display_name": "Python 3.9.10 ('hackathon')",
   "language": "python",
   "name": "python3"
  },
  "language_info": {
   "codemirror_mode": {
    "name": "ipython",
    "version": 3
   },
   "file_extension": ".py",
   "mimetype": "text/x-python",
   "name": "python",
   "nbconvert_exporter": "python",
   "pygments_lexer": "ipython3",
   "version": "3.9.10"
  },
  "orig_nbformat": 4
 },
 "nbformat": 4,
 "nbformat_minor": 2
}
